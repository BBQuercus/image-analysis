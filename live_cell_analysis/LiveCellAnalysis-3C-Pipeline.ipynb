{
 "cells": [
  {
   "cell_type": "markdown",
   "metadata": {},
   "source": [
    "#### Initial setup"
   ]
  },
  {
   "cell_type": "code",
   "execution_count": null,
   "metadata": {},
   "outputs": [],
   "source": [
    "import os\n",
    "import glob\n",
    "import numpy as np\n",
    "import pandas as pd\n",
    "import matplotlib.pyplot as plt\n",
    "import ipywidgets as widgets\n",
    "import scipy.ndimage as ndi\n",
    "\n",
    "import pims\n",
    "import skimage.io\n",
    "import skimage.filters\n",
    "import skimage.morphology\n",
    "import skimage.feature\n",
    "import trackpy as tp\n",
    "import pystackreg"
   ]
  },
  {
   "cell_type": "code",
   "execution_count": null,
   "metadata": {},
   "outputs": [],
   "source": [
    "root = '/Volumes/My Passport/Images/20191126_sMHvsMHG3/pIM52/Dox'\n",
    "\n",
    "extension = 'nd'\n",
    "c3 = False\n",
    "\n",
    "c1_name = '561-488' # Camera 1, reference\n",
    "c2_name = '488-561' # Camera 2, to be aligned\n",
    "c3_name = '' # Camera 1, will not be aligned"
   ]
  },
  {
   "cell_type": "code",
   "execution_count": null,
   "metadata": {},
   "outputs": [],
   "source": [
    "def get_files(root, extension='nd'):\n",
    "    '''\n",
    "    '''\n",
    "    files = sorted(glob.glob(f'{root}/*.{extension}'))\n",
    "    files = [f.split('/')[-1] for f in files]\n",
    "    files = [f.split('.')[0] for f in files]\n",
    "    return files"
   ]
  },
  {
   "cell_type": "code",
   "execution_count": null,
   "metadata": {},
   "outputs": [],
   "source": [
    "root_align = '/Volumes/My Passport/Images/20191126_sMHvsMHG3/Beads'\n",
    "\n",
    "def get_align_image(root, name):\n",
    "    '''\n",
    "    '''\n",
    "    file = get_files(root)[0]\n",
    "    img = glob.glob(f'{root}/{file}*{name}*.stk')[0]\n",
    "    img = skimage.io.imread(img)\n",
    "    img = img[0] if img.ndim==3 else img\n",
    "    return img\n",
    "\n",
    "c1_align = get_align_image(root_align, c1_name)\n",
    "c2_align = get_align_image(root_align, c2_name)"
   ]
  },
  {
   "cell_type": "code",
   "execution_count": null,
   "metadata": {},
   "outputs": [],
   "source": [
    "def align_matrix(img_ref, img_align):\n",
    "    '''\n",
    "    '''\n",
    "    sr = pystackreg.StackReg(pystackreg.StackReg.SCALED_ROTATION)\n",
    "    sr.register(img_ref, img_align)\n",
    "    return sr\n",
    "\n",
    "sr = align_matrix(c1_align, c2_align)\n",
    "\n",
    "fig, ax = plt.subplots(1, 2, figsize=(10,5))\n",
    "ax[0].set_title('Pre-alignment (inset)')\n",
    "ax[0].imshow(c1_align[:200,:200], cmap='Greens')\n",
    "ax[0].imshow(c2_align[:200,:200], cmap='Reds', alpha=0.5)\n",
    "ax[1].set_title('Post-alignment (inset)')\n",
    "ax[1].imshow(c1_align[:200,:200], cmap='Greens')\n",
    "ax[1].imshow(sr.transform(c2_align)[:200,:200], cmap='Reds', alpha=0.5)\n",
    "plt.show()"
   ]
  },
  {
   "cell_type": "markdown",
   "metadata": {},
   "source": [
    "#### Pipeline"
   ]
  },
  {
   "cell_type": "code",
   "execution_count": null,
   "metadata": {
    "scrolled": false
   },
   "outputs": [],
   "source": [
    "files = get_files(root, extension)\n",
    "\n",
    "# Image importing\n",
    "@widgets.interact(file=widgets.Dropdown(options=files, description='File:'))\n",
    "def f(file):\n",
    "    global c_file, c1_image, c2_image\n",
    "    if c3: global c3_image\n",
    "        \n",
    "    c_file = file\n",
    "    \n",
    "    if extension == 'tiff':\n",
    "        c_image = skimage.io.imread(f'{root}/{c_file}.tiff').squeeze()\n",
    "        c1_image = c_image[:,0,:,:,0].squeeze()\n",
    "        c2_image = c_image[:,1,:,:,1].squeeze()\n",
    "        if c3: c3_image = c_image[:,2,:,:,2].squeeze()\n",
    "        \n",
    "    if extension == 'nd':\n",
    "        c1_image = skimage.io.imread(glob.glob(f'{root}/{c_file}*{c1_name}*.stk')[0])\n",
    "        c2_image = skimage.io.imread(glob.glob(f'{root}/{c_file}*{c2_name}*.stk')[0])\n",
    "        if c3: c3_image = skimage.io.imread(glob.glob(f'{root}/{c_file}*{c3_name}*.stk')[0])\n",
    "    \n",
    "    c1_max, c2_max = c1_image.max(), c2_image.max()\n",
    "    \n",
    "    # Interactive image viewer\n",
    "    @widgets.interact(frame = widgets.IntSlider(min=1, max=c1_image.shape[0], description='Frame: '),\n",
    "                      min_max_c1 = widgets.IntRangeSlider(value=(0, c1_max), min=0, max=c1_max, description='Min/Max 1: '),\n",
    "                      min_max_c2 = widgets.IntRangeSlider(value=(0, c2_max), min=0, max=c2_max, description='Min/Max 2: '))\n",
    "    def g(frame, min_max_c1, min_max_c2):\n",
    "        c1_image_show = np.clip(c1_image[frame-1], *min_max_c1)\n",
    "        c2_image_show = np.clip(c2_image[frame-1], *min_max_c2)\n",
    "        if c3: c3_image_show = c3_image[frame-1]\n",
    "        \n",
    "        fig, ax = plt.subplots(1, 3 if c3 else 2, figsize=(15,10))\n",
    "        ax[0].set_title('Channel 1')\n",
    "        ax[0].imshow(c1_image_show, cmap='viridis')\n",
    "        ax[1].set_title('Channel 2')\n",
    "        ax[1].imshow(c2_image_show, cmap='viridis')\n",
    "        if c3:\n",
    "            ax[2].set_title('Channel 3')\n",
    "            ax[2].imshow(c3_image_show)\n",
    "        plt.show()"
   ]
  },
  {
   "cell_type": "code",
   "execution_count": null,
   "metadata": {},
   "outputs": [],
   "source": [
    "def align_image_stack(img, sr):\n",
    "    '''\n",
    "    '''\n",
    "    if img.ndim!=2:\n",
    "        img_align = [align_image(i, sr) for i in img]\n",
    "        return np.asarray(img_align)\n",
    "    return sr.transform(img)\n",
    "\n",
    "c2_image = np.array([align_image_stack(img, sr) for img in c2_image])"
   ]
  },
  {
   "cell_type": "code",
   "execution_count": null,
   "metadata": {
    "scrolled": false
   },
   "outputs": [],
   "source": [
    "img_cytoplasm = c2_image\n",
    "img_nucleus = c1_image\n",
    "img_granules = None\n",
    "\n",
    "img_cytoplasm = np.min(img_cytoplasm, axis=0)\n",
    "img_nucleus = np.min(img_nucleus, axis=0)\n",
    "if img_granules: img_granules = np.min(img_granules, axis=0)\n",
    "\n",
    "fig, ax = plt.subplots(1, 3 if img_granules else 2, figsize=(10, 5))\n",
    "ax[0].set_title('Nuclear Signal')\n",
    "ax[0].imshow(img_nucleus, cmap='viridis')\n",
    "ax[1].set_title('Cytoplasmic Signal')\n",
    "ax[1].imshow(img_cytoplasm, cmap='viridis')\n",
    "if img_granules:\n",
    "    ax[2].set_title('Granular Signal')\n",
    "    ax[2].imshow(img_granules[0], cmap='viridis')\n",
    "plt.show()"
   ]
  },
  {
   "cell_type": "code",
   "execution_count": null,
   "metadata": {},
   "outputs": [],
   "source": [
    "@widgets.interact(quantile = widgets.BoundedFloatText(value=0.95, min=0, max=1, step=0.01, description='Quantile: '))\n",
    "def g(quantile):\n",
    "    global img_thresh_nucleus\n",
    "    \n",
    "    img_smooth = skimage.filters.gaussian(img_nucleus, 2)\n",
    "    img_quantile = np.quantile(img_smooth, quantile)\n",
    "    img_thresh_nucleus = img_smooth > img_quantile\n",
    "\n",
    "    fig, ax = plt.subplots(1, 2, figsize=(10, 5))\n",
    "    ax[0].set_title('Image')\n",
    "    ax[0].imshow(img_nucleus, cmap='viridis')\n",
    "    ax[1].set_title('Segmentation')\n",
    "    ax[1].imshow(img_thresh_nucleus, cmap='viridis')\n",
    "    plt.show()"
   ]
  },
  {
   "cell_type": "code",
   "execution_count": null,
   "metadata": {},
   "outputs": [],
   "source": [
    "@widgets.interact(quantile = widgets.BoundedFloatText(value=0.70, min=0, max=1, step=0.05, description='Quantile: '))\n",
    "def g(quantile):\n",
    "    global img_thresh_cytoplasm\n",
    "    \n",
    "    img_smooth = skimage.filters.gaussian(img_cytoplasm, 2)\n",
    "    img_quantile = np.quantile(img_smooth, quantile)\n",
    "    img_thresh_cytoplasm = img_smooth > img_quantile\n",
    "    img_thresh_cytoplasm = ndi.binary_fill_holes(img_thresh_cytoplasm)\n",
    "\n",
    "    fig, ax = plt.subplots(1, 2, figsize=(10, 5))\n",
    "    ax[0].set_title('Image')\n",
    "    ax[0].imshow(img_cytoplasm, cmap='viridis')\n",
    "    ax[1].set_title('Segmentation')\n",
    "    ax[1].imshow(img_thresh_cytoplasm, cmap='viridis')\n",
    "    plt.show()"
   ]
  },
  {
   "cell_type": "code",
   "execution_count": null,
   "metadata": {
    "scrolled": false
   },
   "outputs": [],
   "source": [
    "@widgets.interact(\n",
    "    sigma = widgets.BoundedIntText(value=10, min=0, max=20, description='Sigma: '),\n",
    "    min_distance = widgets.BoundedIntText(value=50, min=1, max=500, description='Min. dist.: '),\n",
    "    threshold_rel = widgets.BoundedFloatText(value=0.03, min=0, max=1, step=0.01, description='Rel. thresh.: ')\n",
    ")\n",
    "def g(sigma, min_distance, threshold_rel):\n",
    "    global img_seeds\n",
    "    \n",
    "    img_smooth = skimage.filters.gaussian(img_nucleus, sigma)\n",
    "    img_seeds = skimage.feature.peak_local_max(img_smooth,\n",
    "                                               indices=False,\n",
    "                                               min_distance=min_distance,\n",
    "                                               threshold_rel=threshold_rel)\n",
    "    img_seeds_dil = skimage.morphology.dilation(img_seeds, skimage.morphology.square(10))\n",
    "    \n",
    "    plt.figure(figsize=(10, 5))\n",
    "    plt.imshow(img_nucleus)\n",
    "    plt.jet()\n",
    "    plt.imshow(img_seeds_dil, alpha=0.5, cmap='viridis')\n",
    "    plt.title(f'Spot count: {len(np.unique(skimage.morphology.label(img_seeds)))}')\n",
    "    plt.show()"
   ]
  },
  {
   "cell_type": "code",
   "execution_count": null,
   "metadata": {},
   "outputs": [],
   "source": [
    "img_seeds = skimage.morphology.label(img_seeds)\n",
    "img_seg_nucleus = skimage.segmentation.watershed(~img_thresh_nucleus, img_seeds, mask=img_thresh_nucleus)\n",
    "img_seg_cytoplasm = skimage.segmentation.watershed(~img_thresh_cytoplasm, img_seg_nucleus, mask=img_thresh_cytoplasm)\n",
    "img_seg_cytoplasm = np.where(img_seg_nucleus, 0, img_seg_cytoplasm)\n",
    "\n",
    "fig, ax = plt.subplots(1, 3, figsize=(15, 10))\n",
    "ax[0].set_title('Image')\n",
    "ax[0].imshow(img_cytoplasm)\n",
    "ax[1].set_title('Nuclear segmentation')\n",
    "ax[1].imshow(img_seg_nucleus)\n",
    "ax[2].set_title('Cytoplasmic segmentation')\n",
    "ax[2].imshow(img_seg_cytoplasm)\n",
    "plt.show()"
   ]
  },
  {
   "cell_type": "code",
   "execution_count": null,
   "metadata": {
    "scrolled": false
   },
   "outputs": [],
   "source": [
    "# Channel 1\n",
    "f1 = pims.Frame(c1_image)\n",
    "\n",
    "@widgets.interact(img_slice = widgets.IntSlider(value=1, min=1, max=len(f1), step=1, description='Frame: '),\n",
    "          min_max = widgets.IntRangeSlider(value=(0, f1.max()), min=0, max=f1.max(), description='Min/Max: '),\n",
    "          diameter = widgets.BoundedIntText(value=13, min=1, max=29, step=2, description='Diameter: '),\n",
    "          minmass = widgets.BoundedIntText(value=5_000, min=0, max=20_000, step=100, description='Minmass: '),\n",
    "          maxsize = widgets.BoundedFloatText(value=2.5, min=0, max=100, step=0.1, description='Maxsize: '),\n",
    "         )\n",
    "def g(img_slice, min_max, diameter, minmass, maxsize):\n",
    "    global var1_diameter, var1_minmass, var1_maxsize\n",
    "    var1_diameter = diameter\n",
    "    var1_minmass = minmass\n",
    "    var1_maxsize = maxsize\n",
    "    \n",
    "    df_single = tp.locate(f1[img_slice-1], diameter=diameter, minmass=minmass, maxsize=maxsize, engine='numba')\n",
    "    \n",
    "    plt.figure(figsize=(15, 10))\n",
    "    plt.title('Channel 1')\n",
    "    tp.annotate(df_single, np.clip(f1[img_slice-1], *min_max), color='m', imshow_style={'cmap':'viridis'})"
   ]
  },
  {
   "cell_type": "code",
   "execution_count": null,
   "metadata": {
    "scrolled": false
   },
   "outputs": [],
   "source": [
    "# Channel 2\n",
    "f2 = pims.Frame(c2_image)\n",
    "\n",
    "@widgets.interact(img_slice = widgets.IntSlider(value=1, min=0, max=len(f2)-1, step=1, description='Frame: '),\n",
    "          min_max = widgets.IntRangeSlider(value=(0, f2.max()), min=0, max=f2.max(), description='Min/Max: '),\n",
    "          diameter = widgets.BoundedIntText(value=13, min=1, max=29, step=2, description='Diameter: '),\n",
    "          minmass = widgets.BoundedIntText(value=10_000, min=0, max=20_000, step=100, description='Minmass: '),\n",
    "          maxsize = widgets.BoundedFloatText(value=2.5, min=0, max=100, step=0.1, description='Maxsize: '),\n",
    "         )\n",
    "def g(img_slice, min_max, diameter, minmass, maxsize):\n",
    "    global var2_diameter, var2_minmass, var2_maxsize\n",
    "    var2_diameter = diameter\n",
    "    var2_minmass = minmass\n",
    "    var2_maxsize = maxsize\n",
    "    \n",
    "    df_single = tp.locate(f2[img_slice], diameter=diameter, minmass=minmass, maxsize=maxsize, engine='numba')\n",
    "    \n",
    "    plt.figure(figsize=(15, 10))\n",
    "    plt.title('Channel 1')\n",
    "    tp.annotate(df_single, np.clip(f2[img_slice], *min_max), color='m', imshow_style={'cmap':'viridis'}) #or hsv"
   ]
  },
  {
   "cell_type": "code",
   "execution_count": null,
   "metadata": {},
   "outputs": [],
   "source": [
    "# Compute rest\n",
    "df1 = tp.batch(f1, diameter=var1_diameter, minmass=var1_minmass, maxsize=var1_maxsize, engine='numba')\n",
    "df2 = tp.batch(f2, diameter=var2_diameter, minmass=var2_minmass, maxsize=var2_maxsize, engine='numba')\n",
    "\n",
    "var_search_range = 10\n",
    "var_memory = 3\n",
    "var_threshold = 5\n",
    "\n",
    "def link_and_filter(df, search_range, memory, threshold):\n",
    "    df = tp.link_df(df, search_range=search_range, memory=memory)\n",
    "    print('Before:', df['particle'].nunique())\n",
    "    df = tp.filter_stubs(df, threshold=threshold)\n",
    "    print('After:', df['particle'].nunique())\n",
    "    return df\n",
    "\n",
    "df1 = link_and_filter(df1, var_search_range, var_memory, var_threshold)\n",
    "df2 = link_and_filter(df2, var_search_range, var_memory, var_threshold)\n",
    "\n",
    "def remove_drift(df):\n",
    "    df_drift = tp.compute_drift(df)\n",
    "    df = tp.subtract_drift(df.copy(), df_drift)\n",
    "    return df\n",
    "\n",
    "df1 = remove_drift(df1)\n",
    "df2 = remove_drift(df2)\n",
    "\n",
    "fig, ax = plt.subplots(1, 2, figsize=(15, 10))\n",
    "ax[0].set_title('Channel 1')\n",
    "tp.plot_traj(df1, superimpose=f1[0], ax=ax[0])\n",
    "ax[1].set_title('Channel 2')\n",
    "tp.plot_traj(df2, superimpose=f2[0], ax=ax[1])\n",
    "plt.show()\n",
    "\n",
    "# Cellular assignment\n",
    "def assign_cell(df, img_seg):\n",
    "    def _get_value(img, y, x):\n",
    "        return img[int(round(y)), int(round(x))]\n",
    "\n",
    "    if df.empty: return df\n",
    "\n",
    "    df['cell'] = df.apply(lambda row: _get_value(img_seg, row['y'], row['x']), axis=1)\n",
    "    print('Before:', df['particle'].nunique())\n",
    "    df = df[df['cell']!=0]\n",
    "    print('After:', df['particle'].nunique())\n",
    "    return df\n",
    "\n",
    "df1 = assign_cell(df1, img_seg_cytoplasm)\n",
    "df2 = assign_cell(df2, img_seg_cytoplasm)\n",
    "\n",
    "df1['channel'] = 1\n",
    "df2['channel'] = 2\n",
    "df = pd.concat([df1, df2])\n",
    "\n",
    "df['file'] = c_file\n",
    "\n",
    "root_out = './out'\n",
    "os.makedirs(root_out, exist_ok=True)\n",
    "df.to_csv(f'{root_out}/{c_file}.csv', index=False)"
   ]
  },
  {
   "cell_type": "markdown",
   "metadata": {
    "heading_collapsed": true
   },
   "source": [
    "#### Granules option"
   ]
  },
  {
   "cell_type": "code",
   "execution_count": null,
   "metadata": {
    "hidden": true
   },
   "outputs": [],
   "source": [
    "if img_granules:\n",
    "    @widgets.interact(frame = widgets.IntSlider(value=1, min=1, max=len(img_granules)-1, description='Frame: '),\n",
    "                      quantile = widgets.FloatSlider(value=0.95, min=0, max=1, step=0.01, description='Quantile: '))\n",
    "    def g(frame, quantile):\n",
    "        global var_quantile_granules, quantile_dist_transform\n",
    "\n",
    "        img_smooth = skimage.filters.gaussian(img_granules[frame], 2)\n",
    "        var_quantile_granules = np.quantile(img_smooth, quantile)\n",
    "\n",
    "        def quantile_dist_transform(img, quantile, return_both=True):\n",
    "            img_seg = img > quantile\n",
    "            img_seg_dist = ndi.distance_transform_edt(img_seg)\n",
    "            if return_both:\n",
    "                return img_seg, img_seg_dist\n",
    "            return img_seg_dist\n",
    "\n",
    "        img_seg_granules, img_seg_granules_dist = quantile_dist_transform(img_smooth, var_quantile_granules)\n",
    "\n",
    "        fig, ax = plt.subplots(1, 3, figsize=(15, 10))\n",
    "        ax[0].set_title('Granular image')\n",
    "        ax[0].imshow(img_granules[frame])\n",
    "        ax[1].set_title('Granular segmentation')\n",
    "        ax[1].imshow(img_seg_granules)\n",
    "        ax[2].set_title('Granular distance transform')\n",
    "        ax[2].imshow(img_seg_granules_dist)\n",
    "        plt.show()"
   ]
  }
 ],
 "metadata": {
  "kernelspec": {
   "display_name": "Python 3",
   "language": "python",
   "name": "python3"
  },
  "language_info": {
   "codemirror_mode": {
    "name": "ipython",
    "version": 3
   },
   "file_extension": ".py",
   "mimetype": "text/x-python",
   "name": "python",
   "nbconvert_exporter": "python",
   "pygments_lexer": "ipython3",
   "version": "3.7.5"
  },
  "varInspector": {
   "cols": {
    "lenName": 16,
    "lenType": 16,
    "lenVar": 40
   },
   "kernels_config": {
    "python": {
     "delete_cmd_postfix": "",
     "delete_cmd_prefix": "del ",
     "library": "var_list.py",
     "varRefreshCmd": "print(var_dic_list())"
    },
    "r": {
     "delete_cmd_postfix": ") ",
     "delete_cmd_prefix": "rm(",
     "library": "var_list.r",
     "varRefreshCmd": "cat(var_dic_list()) "
    }
   },
   "types_to_exclude": [
    "module",
    "function",
    "builtin_function_or_method",
    "instance",
    "_Feature"
   ],
   "window_display": false
  }
 },
 "nbformat": 4,
 "nbformat_minor": 2
}
